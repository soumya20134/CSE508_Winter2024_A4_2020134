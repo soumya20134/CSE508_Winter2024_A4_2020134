{
 "cells": [
  {
   "cell_type": "code",
   "execution_count": 23,
   "metadata": {},
   "outputs": [
    {
     "name": "stdout",
     "output_type": "stream",
     "text": [
      "Requirement already satisfied: transformers in /Users/apple/miniconda3/lib/python3.10/site-packages (4.30.0)\n",
      "Requirement already satisfied: requests in /Users/apple/miniconda3/lib/python3.10/site-packages (from transformers) (2.28.1)\n",
      "Requirement already satisfied: pyyaml>=5.1 in /Users/apple/miniconda3/lib/python3.10/site-packages (from transformers) (6.0)\n",
      "Requirement already satisfied: regex!=2019.12.17 in /Users/apple/miniconda3/lib/python3.10/site-packages (from transformers) (2023.12.25)\n",
      "Requirement already satisfied: filelock in /Users/apple/miniconda3/lib/python3.10/site-packages (from transformers) (3.12.4)\n",
      "Requirement already satisfied: tqdm>=4.27 in /Users/apple/miniconda3/lib/python3.10/site-packages (from transformers) (4.64.1)\n",
      "Requirement already satisfied: numpy>=1.17 in /Users/apple/miniconda3/lib/python3.10/site-packages (from transformers) (1.23.5)\n",
      "Requirement already satisfied: tokenizers!=0.11.3,<0.14,>=0.11.1 in /Users/apple/miniconda3/lib/python3.10/site-packages (from transformers) (0.13.3)\n",
      "Requirement already satisfied: safetensors>=0.3.1 in /Users/apple/miniconda3/lib/python3.10/site-packages (from transformers) (0.4.3)\n",
      "Requirement already satisfied: packaging>=20.0 in /Users/apple/miniconda3/lib/python3.10/site-packages (from transformers) (22.0)\n",
      "Requirement already satisfied: huggingface-hub<1.0,>=0.14.1 in /Users/apple/miniconda3/lib/python3.10/site-packages (from transformers) (0.22.2)\n",
      "Requirement already satisfied: fsspec>=2023.5.0 in /Users/apple/miniconda3/lib/python3.10/site-packages (from huggingface-hub<1.0,>=0.14.1->transformers) (2024.3.1)\n",
      "Requirement already satisfied: typing-extensions>=3.7.4.3 in /Users/apple/miniconda3/lib/python3.10/site-packages (from huggingface-hub<1.0,>=0.14.1->transformers) (4.11.0)\n",
      "Requirement already satisfied: charset-normalizer<3,>=2 in /Users/apple/miniconda3/lib/python3.10/site-packages (from requests->transformers) (2.0.4)\n",
      "Requirement already satisfied: idna<4,>=2.5 in /Users/apple/miniconda3/lib/python3.10/site-packages (from requests->transformers) (3.4)\n",
      "Requirement already satisfied: certifi>=2017.4.17 in /Users/apple/miniconda3/lib/python3.10/site-packages (from requests->transformers) (2024.2.2)\n",
      "Requirement already satisfied: urllib3<1.27,>=1.21.1 in /Users/apple/miniconda3/lib/python3.10/site-packages (from requests->transformers) (1.26.13)\n"
     ]
    }
   ],
   "source": [
    "!pip install transformers"
   ]
  },
  {
   "cell_type": "code",
   "execution_count": 2,
   "metadata": {},
   "outputs": [],
   "source": [
    "import re\n",
    "import random\n",
    "import pandas as pd\n",
    "import numpy as np\n",
    "import torch\n",
    "from torch.utils.data import Dataset, DataLoader\n",
    "from transformers import AutoTokenizer, AutoModelWithLMHead\n",
    "import torch.optim as optim"
   ]
  },
  {
   "cell_type": "code",
   "execution_count": 3,
   "metadata": {},
   "outputs": [
    {
     "data": {
      "text/plain": [
       "device(type='cpu')"
      ]
     },
     "execution_count": 3,
     "metadata": {},
     "output_type": "execute_result"
    }
   ],
   "source": [
    "device = torch.device('cuda:0' if torch.cuda.is_available() else 'cpu')\n",
    "device"
   ]
  },
  {
   "cell_type": "code",
   "execution_count": 4,
   "metadata": {},
   "outputs": [
    {
     "data": {
      "text/html": [
       "<div>\n",
       "<style scoped>\n",
       "    .dataframe tbody tr th:only-of-type {\n",
       "        vertical-align: middle;\n",
       "    }\n",
       "\n",
       "    .dataframe tbody tr th {\n",
       "        vertical-align: top;\n",
       "    }\n",
       "\n",
       "    .dataframe thead th {\n",
       "        text-align: right;\n",
       "    }\n",
       "</style>\n",
       "<table border=\"1\" class=\"dataframe\">\n",
       "  <thead>\n",
       "    <tr style=\"text-align: right;\">\n",
       "      <th></th>\n",
       "      <th>Id</th>\n",
       "      <th>ProductId</th>\n",
       "      <th>UserId</th>\n",
       "      <th>ProfileName</th>\n",
       "      <th>HelpfulnessNumerator</th>\n",
       "      <th>HelpfulnessDenominator</th>\n",
       "      <th>Score</th>\n",
       "      <th>Time</th>\n",
       "      <th>Summary</th>\n",
       "      <th>Text</th>\n",
       "    </tr>\n",
       "  </thead>\n",
       "  <tbody>\n",
       "    <tr>\n",
       "      <th>0</th>\n",
       "      <td>1</td>\n",
       "      <td>B001E4KFG0</td>\n",
       "      <td>A3SGXH7AUHU8GW</td>\n",
       "      <td>delmartian</td>\n",
       "      <td>1</td>\n",
       "      <td>1</td>\n",
       "      <td>5</td>\n",
       "      <td>1303862400</td>\n",
       "      <td>Good Quality Dog Food</td>\n",
       "      <td>I have bought several of the Vitality canned d...</td>\n",
       "    </tr>\n",
       "    <tr>\n",
       "      <th>1</th>\n",
       "      <td>2</td>\n",
       "      <td>B00813GRG4</td>\n",
       "      <td>A1D87F6ZCVE5NK</td>\n",
       "      <td>dll pa</td>\n",
       "      <td>0</td>\n",
       "      <td>0</td>\n",
       "      <td>1</td>\n",
       "      <td>1346976000</td>\n",
       "      <td>Not as Advertised</td>\n",
       "      <td>Product arrived labeled as Jumbo Salted Peanut...</td>\n",
       "    </tr>\n",
       "    <tr>\n",
       "      <th>2</th>\n",
       "      <td>3</td>\n",
       "      <td>B000LQOCH0</td>\n",
       "      <td>ABXLMWJIXXAIN</td>\n",
       "      <td>Natalia Corres \"Natalia Corres\"</td>\n",
       "      <td>1</td>\n",
       "      <td>1</td>\n",
       "      <td>4</td>\n",
       "      <td>1219017600</td>\n",
       "      <td>\"Delight\" says it all</td>\n",
       "      <td>This is a confection that has been around a fe...</td>\n",
       "    </tr>\n",
       "    <tr>\n",
       "      <th>3</th>\n",
       "      <td>4</td>\n",
       "      <td>B000UA0QIQ</td>\n",
       "      <td>A395BORC6FGVXV</td>\n",
       "      <td>Karl</td>\n",
       "      <td>3</td>\n",
       "      <td>3</td>\n",
       "      <td>2</td>\n",
       "      <td>1307923200</td>\n",
       "      <td>Cough Medicine</td>\n",
       "      <td>If you are looking for the secret ingredient i...</td>\n",
       "    </tr>\n",
       "    <tr>\n",
       "      <th>4</th>\n",
       "      <td>5</td>\n",
       "      <td>B006K2ZZ7K</td>\n",
       "      <td>A1UQRSCLF8GW1T</td>\n",
       "      <td>Michael D. Bigham \"M. Wassir\"</td>\n",
       "      <td>0</td>\n",
       "      <td>0</td>\n",
       "      <td>5</td>\n",
       "      <td>1350777600</td>\n",
       "      <td>Great taffy</td>\n",
       "      <td>Great taffy at a great price.  There was a wid...</td>\n",
       "    </tr>\n",
       "  </tbody>\n",
       "</table>\n",
       "</div>"
      ],
      "text/plain": [
       "   Id   ProductId          UserId                      ProfileName  \\\n",
       "0   1  B001E4KFG0  A3SGXH7AUHU8GW                       delmartian   \n",
       "1   2  B00813GRG4  A1D87F6ZCVE5NK                           dll pa   \n",
       "2   3  B000LQOCH0   ABXLMWJIXXAIN  Natalia Corres \"Natalia Corres\"   \n",
       "3   4  B000UA0QIQ  A395BORC6FGVXV                             Karl   \n",
       "4   5  B006K2ZZ7K  A1UQRSCLF8GW1T    Michael D. Bigham \"M. Wassir\"   \n",
       "\n",
       "   HelpfulnessNumerator  HelpfulnessDenominator  Score        Time  \\\n",
       "0                     1                       1      5  1303862400   \n",
       "1                     0                       0      1  1346976000   \n",
       "2                     1                       1      4  1219017600   \n",
       "3                     3                       3      2  1307923200   \n",
       "4                     0                       0      5  1350777600   \n",
       "\n",
       "                 Summary                                               Text  \n",
       "0  Good Quality Dog Food  I have bought several of the Vitality canned d...  \n",
       "1      Not as Advertised  Product arrived labeled as Jumbo Salted Peanut...  \n",
       "2  \"Delight\" says it all  This is a confection that has been around a fe...  \n",
       "3         Cough Medicine  If you are looking for the secret ingredient i...  \n",
       "4            Great taffy  Great taffy at a great price.  There was a wid...  "
      ]
     },
     "execution_count": 4,
     "metadata": {},
     "output_type": "execute_result"
    }
   ],
   "source": [
    "reviews = pd.read_csv('archive/Reviews.csv')\n",
    "reviews.head()"
   ]
  },
  {
   "cell_type": "code",
   "execution_count": 5,
   "metadata": {},
   "outputs": [
    {
     "data": {
      "text/plain": [
       "array(['I have bought several of the Vitality canned dog food products and have found them all to be of good quality. The product looks more like a stew than a processed meat and it smells better. My Labrador is finicky and she appreciates this product better than  most.',\n",
       "       'Product arrived labeled as Jumbo Salted Peanuts...the peanuts were actually small sized unsalted. Not sure if this was an error or if the vendor intended to represent the product as \"Jumbo\".',\n",
       "       'This is a confection that has been around a few centuries.  It is a light, pillowy citrus gelatin with nuts - in this case Filberts. And it is cut into tiny squares and then liberally coated with powdered sugar.  And it is a tiny mouthful of heaven.  Not too chewy, and very flavorful.  I highly recommend this yummy treat.  If you are familiar with the story of C.S. Lewis\\' \"The Lion, The Witch, and The Wardrobe\" - this is the treat that seduces Edmund into selling out his Brother and Sisters to the Witch.',\n",
       "       'If you are looking for the secret ingredient in Robitussin I believe I have found it.  I got this in addition to the Root Beer Extract I ordered (which was good) and made some cherry soda.  The flavor is very medicinal.',\n",
       "       'Great taffy at a great price.  There was a wide assortment of yummy taffy.  Delivery was very quick.  If your a taffy lover, this is a deal.'],\n",
       "      dtype=object)"
      ]
     },
     "execution_count": 5,
     "metadata": {},
     "output_type": "execute_result"
    }
   ],
   "source": [
    "reviews.Text.values[:5]\n"
   ]
  },
  {
   "cell_type": "code",
   "execution_count": 6,
   "metadata": {},
   "outputs": [
    {
     "data": {
      "text/plain": [
       "array(['Good Quality Dog Food', 'Not as Advertised',\n",
       "       '\"Delight\" says it all', 'Cough Medicine', 'Great taffy'],\n",
       "      dtype=object)"
      ]
     },
     "execution_count": 6,
     "metadata": {},
     "output_type": "execute_result"
    }
   ],
   "source": [
    "reviews.Summary.values[:5]"
   ]
  },
  {
   "cell_type": "code",
   "execution_count": 7,
   "metadata": {},
   "outputs": [],
   "source": [
    "from sklearn.model_selection import train_test_split\n",
    "reviews = reviews.sample(frac=0.01, random_state=42)\n",
    "reviews, test_reviews = train_test_split(reviews, test_size=0.25, random_state=42)"
   ]
  },
  {
   "cell_type": "code",
   "execution_count": 8,
   "metadata": {},
   "outputs": [
    {
     "data": {
      "text/plain": [
       "4263"
      ]
     },
     "execution_count": 8,
     "metadata": {},
     "output_type": "execute_result"
    }
   ],
   "source": [
    "len(reviews)\n"
   ]
  },
  {
   "cell_type": "code",
   "execution_count": 9,
   "metadata": {},
   "outputs": [
    {
     "data": {
      "text/plain": [
       "array(['This flavor tastes very good. Great product!!! I subscribed to receive one box every 6 months, very convenient and great service. TL;DR Great product, tastes good',\n",
       "       \"I liked the Planter's snack bars.  Basically it is a larger and higher calorie version of a regular granola bar with the added joy of having fat planter's peanuts on top.<br /><br />As other have said, it is not a diet bar and is probably a bit messier than your average granola bar which are always nice to have in the car.  However it is tasty and sweet and depending on what you are looking for in a granola bar (did I just type that) this should satisfy both your sweet and salty cravings. TL;DR Excellent Protein Snack\",\n",
       "       \"Nowhere in the description does it mention anything about this coffee being flavored. I'm still not sure what flavor it is. Some type of nut. I wrongly assumed that Jamaican coffee would be similar to the Blue Mountain coffee which Jamaica is known for! How silly of me to assume that! I hate flavored coffees so I was so disappointed to now own 2 boxes of such a horrible coffee. It only says flavored very small on the box so I didn't notice it before I opened it. Hopefully I can pawn it off to visitors and buy some regular bold coffee-flavored coffee for myself! TL;DR FLAVORED COFFEE??\"],\n",
       "      dtype=object)"
      ]
     },
     "execution_count": 9,
     "metadata": {},
     "output_type": "execute_result"
    }
   ],
   "source": [
    "reviews['model_input'] = reviews['Text'] + \" TL;DR \" + reviews['Summary']\n",
    "reviews['model_input'].values[:3]"
   ]
  },
  {
   "cell_type": "code",
   "execution_count": 10,
   "metadata": {},
   "outputs": [
    {
     "data": {
      "text/plain": [
       "84.54351395730706"
      ]
     },
     "execution_count": 10,
     "metadata": {},
     "output_type": "execute_result"
    }
   ],
   "source": [
    "avg_length = sum([len(review.split()) for review in reviews.model_input.values])/len(reviews)\n",
    "avg_length"
   ]
  },
  {
   "cell_type": "code",
   "execution_count": 11,
   "metadata": {},
   "outputs": [],
   "source": [
    "max_length = 100"
   ]
  },
  {
   "cell_type": "code",
   "execution_count": 12,
   "metadata": {},
   "outputs": [
    {
     "data": {
      "text/plain": [
       "100"
      ]
     },
     "execution_count": 12,
     "metadata": {},
     "output_type": "execute_result"
    }
   ],
   "source": [
    "reviews = reviews.sample(100)\n",
    "reviews = reviews.model_input.values.tolist()\n",
    "len(reviews)"
   ]
  },
  {
   "cell_type": "code",
   "execution_count": 13,
   "metadata": {},
   "outputs": [
    {
     "name": "stderr",
     "output_type": "stream",
     "text": [
      "/Users/apple/miniconda3/lib/python3.10/site-packages/transformers/models/auto/modeling_auto.py:1362: FutureWarning: The class `AutoModelWithLMHead` is deprecated and will be removed in a future version. Please use `AutoModelForCausalLM` for causal language models, `AutoModelForMaskedLM` for masked language models and `AutoModelForSeq2SeqLM` for encoder-decoder models.\n",
      "  warnings.warn(\n"
     ]
    }
   ],
   "source": [
    "tokenizer = AutoTokenizer.from_pretrained(\"gpt2\")\n",
    "model = AutoModelWithLMHead.from_pretrained(\"gpt2\")"
   ]
  },
  {
   "cell_type": "code",
   "execution_count": 14,
   "metadata": {},
   "outputs": [],
   "source": [
    "model = model.to(device)\n",
    "optimizer = optim.AdamW(model.parameters(), lr=3e-4)"
   ]
  },
  {
   "cell_type": "code",
   "execution_count": 15,
   "metadata": {},
   "outputs": [
    {
     "data": {
      "text/plain": [
       "[24811, 26, 7707, 220]"
      ]
     },
     "execution_count": 15,
     "metadata": {},
     "output_type": "execute_result"
    }
   ],
   "source": [
    "tokenizer.encode(\" TL;DR \")"
   ]
  },
  {
   "cell_type": "code",
   "execution_count": 16,
   "metadata": {},
   "outputs": [],
   "source": [
    "extra_length = len(tokenizer.encode(\" TL;DR \"))\n"
   ]
  },
  {
   "cell_type": "code",
   "execution_count": 17,
   "metadata": {},
   "outputs": [],
   "source": [
    "class ReviewDataset(Dataset):  \n",
    "    def __init__(self, tokenizer, reviews, max_len):\n",
    "        self.max_len = max_len\n",
    "        self.tokenizer = tokenizer\n",
    "        self.eos = self.tokenizer.eos_token\n",
    "        self.eos_id = self.tokenizer.eos_token_id\n",
    "        self.reviews = reviews\n",
    "        self.result = []\n",
    "\n",
    "        for review in self.reviews:\n",
    "            # Encode the text using tokenizer.encode(). We add EOS at the end\n",
    "            tokenized = self.tokenizer.encode(review + self.eos)\n",
    "            \n",
    "            # Padding/truncating the encoded sequence to max_len \n",
    "            padded = self.pad_truncate(tokenized)            \n",
    "\n",
    "            # Creating a tensor and adding to the result\n",
    "            self.result.append(torch.tensor(padded))\n",
    "\n",
    "    def __len__(self):\n",
    "        return len(self.result)\n",
    "\n",
    "\n",
    "    def __getitem__(self, item):\n",
    "        return self.result[item]\n",
    "\n",
    "    def pad_truncate(self, name):\n",
    "        name_length = len(name) - extra_length\n",
    "        if name_length < self.max_len:\n",
    "            difference = self.max_len - name_length\n",
    "            result = name + [self.eos_id] * difference\n",
    "        elif name_length > self.max_len:\n",
    "            result = name[:self.max_len + 3]+[self.eos_id] \n",
    "        else:\n",
    "            result = name\n",
    "        return result"
   ]
  },
  {
   "cell_type": "code",
   "execution_count": 18,
   "metadata": {},
   "outputs": [],
   "source": [
    "dataset = ReviewDataset(tokenizer, reviews, max_length)\n"
   ]
  },
  {
   "cell_type": "code",
   "execution_count": 19,
   "metadata": {},
   "outputs": [],
   "source": [
    "dataloader = DataLoader(dataset, batch_size=2, shuffle=True, drop_last=True)\n"
   ]
  },
  {
   "cell_type": "code",
   "execution_count": 20,
   "metadata": {},
   "outputs": [],
   "source": [
    "def train(model, optimizer, dl, epochs):    \n",
    "    for epoch in range(epochs):\n",
    "        for idx, batch in enumerate(dl):\n",
    "             with torch.set_grad_enabled(True):\n",
    "                optimizer.zero_grad()\n",
    "                batch = batch.to(device)\n",
    "                output = model(batch, labels=batch)\n",
    "                loss = output[0]\n",
    "                loss.backward()\n",
    "                optimizer.step()\n",
    "                if idx % 100 == 0:\n",
    "                    print(\"loss: %f, %d\"%(loss, idx))"
   ]
  },
  {
   "cell_type": "code",
   "execution_count": 21,
   "metadata": {},
   "outputs": [
    {
     "name": "stdout",
     "output_type": "stream",
     "text": [
      "loss: 5.044612, 0\n"
     ]
    }
   ],
   "source": [
    "train(model=model, optimizer=optimizer, dl=dataloader, epochs=1)"
   ]
  },
  {
   "cell_type": "code",
   "execution_count": 22,
   "metadata": {},
   "outputs": [],
   "source": [
    "def topk(probs, n=9):\n",
    "    # The scores are initially softmaxed to convert to probabilities\n",
    "    probs = torch.softmax(probs, dim= -1)\n",
    "    \n",
    "    # PyTorch has its own topk method, which we use here\n",
    "    tokensProb, topIx = torch.topk(probs, k=n)\n",
    "    \n",
    "    # The new selection pool (9 choices) is normalized\n",
    "    tokensProb = tokensProb / torch.sum(tokensProb)\n",
    "\n",
    "    # Send to CPU for numpy handling\n",
    "    tokensProb = tokensProb.cpu().detach().numpy()\n",
    "\n",
    "    # Make a random choice from the pool based on the new prob distribution\n",
    "    choice = np.random.choice(n, 1, p = tokensProb)\n",
    "    tokenId = topIx[choice][0]\n",
    "\n",
    "    return int(tokenId)"
   ]
  },
  {
   "cell_type": "code",
   "execution_count": 23,
   "metadata": {},
   "outputs": [],
   "source": [
    "def model_infer(model, tokenizer, review, max_length=15):\n",
    "    # Preprocess the init token (task designator)\n",
    "    review_encoded = tokenizer.encode(review)\n",
    "    result = review_encoded\n",
    "    initial_input = torch.tensor(review_encoded).unsqueeze(0).to(device)\n",
    "\n",
    "    with torch.set_grad_enabled(False):\n",
    "        # Feed the init token to the model\n",
    "        output = model(initial_input)\n",
    "\n",
    "        # Flatten the logits at the final time step\n",
    "        logits = output.logits[0,-1]\n",
    "\n",
    "        # Make a top-k choice and append to the result\n",
    "        result.append(topk(logits))\n",
    "\n",
    "        # For max_length times:\n",
    "        for _ in range(max_length):\n",
    "            # Feed the current sequence to the model and make a choice\n",
    "            input = torch.tensor(result).unsqueeze(0).to(device)\n",
    "            output = model(input)\n",
    "            logits = output.logits[0,-1]\n",
    "            res_id = topk(logits)\n",
    "\n",
    "            # If the chosen token is EOS, return the result\n",
    "            if res_id == tokenizer.eos_token_id:\n",
    "                return tokenizer.decode(result)\n",
    "            else: # Append to the sequence \n",
    "                result.append(res_id)\n",
    "    # IF no EOS is generated, return after the max_len\n",
    "    return tokenizer.decode(result)"
   ]
  },
  {
   "cell_type": "code",
   "execution_count": 24,
   "metadata": {},
   "outputs": [
    {
     "data": {
      "text/plain": [
       "[\"I use it to put in a protein shake. One scoop that's all it takes. Less calories than others. It is very reasonable ! I will buy again !\",\n",
       " \"I like drinking something other than sports drinks to get my electrolytes in after a workout, so I don't mind that this is higher in sugar and calories (110, I believe) than the other Zico waters.<br /><br />Even if you don't like the taste of regular coconut water, you should try this! It makes for a great dairy-free milk (in fact, I would compare the taste to chocolate almond milk).\",\n",
       " 'These wafer have a very bright lemony filling and dont taste like they are gluten free cookies. I have to keep them away from my kids!',\n",
       " 'I ordered 18 bags of York Pieces for wedding favors, half of the bags were melted and Amazon has a no return policy on food items. I would not order food products from a online vendor again.',\n",
       " 'This is an excellent bottled tea. It has no sugar at all but it has a great taste and the jasmine seems to give it a natural sweet taste.']"
      ]
     },
     "execution_count": 24,
     "metadata": {},
     "output_type": "execute_result"
    }
   ],
   "source": [
    "sample_reviews = [review.split(\" TL;DR \")[0] for review in random.sample(reviews, 5)]\n",
    "sample_reviews"
   ]
  },
  {
   "cell_type": "code",
   "execution_count": 25,
   "metadata": {},
   "outputs": [
    {
     "name": "stdout",
     "output_type": "stream",
     "text": [
      "I use it to put in a protein shake. One scoop that's all it takes. Less calories than others. It is very reasonable ! I will buy again !\n",
      "Summaries: Good product!\n",
      "\n",
      "I like drinking something other than sports drinks to get my electrolytes in after a workout, so I don't mind that this is higher in sugar and calories (110, I believe) than the other Zico waters.<br /><br />Even if you don't like the taste of regular coconut water, you should try this! It makes for a great dairy-free milk (in fact, I would compare the taste to chocolate almond milk).\n",
      "Summaries: \n",
      "\n",
      "These wafer have a very bright lemony filling and dont taste like they are gluten free cookies. I have to keep them away from my kids!\n",
      "Summaries: This has a good gluten free cookie\n",
      "\n",
      "I ordered 18 bags of York Pieces for wedding favors, half of the bags were melted and Amazon has a no return policy on food items. I would not order food products from a online vendor again.\n",
      "Summaries: <|endoftext|>\n",
      "\n",
      "This is an excellent bottled tea. It has no sugar at all but it has a great taste and the jasmine seems to give it a natural sweet taste.\n",
      "Summaries: <|endoftext|>\n",
      "\n"
     ]
    }
   ],
   "source": [
    "for review in sample_reviews:\n",
    "    print(review)\n",
    "    summary = model_infer(model, tokenizer, review + \" TL;DR \").split(\" TL;DR \")[1].strip()\n",
    "    print(\"Summaries: \"+ str(summary) +\"\\n\")"
   ]
  },
  {
   "cell_type": "code",
   "execution_count": 26,
   "metadata": {},
   "outputs": [
    {
     "name": "stdout",
     "output_type": "stream",
     "text": [
      "10\n"
     ]
    }
   ],
   "source": [
    "test_reviews = test_reviews.sample(10)\n",
    "print(len(test_reviews))"
   ]
  },
  {
   "cell_type": "code",
   "execution_count": 27,
   "metadata": {},
   "outputs": [
    {
     "name": "stdout",
     "output_type": "stream",
     "text": [
      "ROUGE Scores:\n",
      "rouge1: Precision: 0.06666666666666667, Recall: 0.04, F1-Score: 0.05\n",
      "rouge2: Precision: 0.05, Recall: 0.025, F1-Score: 0.03333333333333333\n",
      "rougeL: Precision: 0.06666666666666667, Recall: 0.04, F1-Score: 0.05\n"
     ]
    }
   ],
   "source": [
    "from rouge_score import rouge_scorer\n",
    "\n",
    "# Define a function to calculate ROUGE scores\n",
    "def calculate_rouge_scores(model, tokenizer, test_reviews):\n",
    "    rouge_scorer_instance = rouge_scorer.RougeScorer(['rouge1', 'rouge2', 'rougeL'], use_stemmer=True)\n",
    "    rouge_scores = {\"rouge1\": {\"precision\": 0, \"recall\": 0, \"fmeasure\": 0},\n",
    "                    \"rouge2\": {\"precision\": 0, \"recall\": 0, \"fmeasure\": 0},\n",
    "                    \"rougeL\": {\"precision\": 0, \"recall\": 0, \"fmeasure\": 0}}\n",
    "\n",
    "    for idx, row in test_reviews.iterrows():\n",
    "        review_text = row['Text']\n",
    "        actual_summary = row['Summary']\n",
    "        generated_summary = model_infer(model, tokenizer, review_text + \" TL;DR \").split(\" TL;DR \")[1].strip()\n",
    "        scores = rouge_scorer_instance.score(generated_summary, actual_summary)\n",
    "        for metric, values in scores.items():\n",
    "            rouge_scores[metric][\"precision\"] += values.precision\n",
    "            rouge_scores[metric][\"recall\"] += values.recall\n",
    "            rouge_scores[metric][\"fmeasure\"] += values.fmeasure\n",
    "\n",
    "    num_reviews = len(test_reviews)\n",
    "    for metric in rouge_scores:\n",
    "        rouge_scores[metric][\"precision\"] /= num_reviews\n",
    "        rouge_scores[metric][\"recall\"] /= num_reviews\n",
    "        rouge_scores[metric][\"fmeasure\"] /= num_reviews\n",
    "\n",
    "    return rouge_scores\n",
    "\n",
    "# Calculate ROUGE scores for the test_reviews DataFrame\n",
    "rouge_scores = calculate_rouge_scores(model, tokenizer, test_reviews)\n",
    "print(\"ROUGE Scores:\")\n",
    "for metric, scores in rouge_scores.items():\n",
    "    print(f\"{metric}: Precision: {scores['precision']}, Recall: {scores['recall']}, F1-Score: {scores['fmeasure']}\")\n"
   ]
  }
 ],
 "metadata": {
  "kernelspec": {
   "display_name": "myenv",
   "language": "python",
   "name": "myenv"
  },
  "language_info": {
   "codemirror_mode": {
    "name": "ipython",
    "version": 3
   },
   "file_extension": ".py",
   "mimetype": "text/x-python",
   "name": "python",
   "nbconvert_exporter": "python",
   "pygments_lexer": "ipython3",
   "version": "3.10.8"
  }
 },
 "nbformat": 4,
 "nbformat_minor": 2
}
